{
 "cells": [
  {
   "cell_type": "code",
   "execution_count": 1,
   "id": "9f59832d",
   "metadata": {},
   "outputs": [],
   "source": [
    "import pandas as pd\n",
    "import numpy as np\n",
    "\n",
    "from scipy.stats import linregress\n",
    "from tqdm import tqdm"
   ]
  },
  {
   "cell_type": "markdown",
   "id": "25754ffe",
   "metadata": {},
   "source": [
    "# READ CRYPTO DATA"
   ]
  },
  {
   "cell_type": "code",
   "execution_count": 18,
   "id": "7d93ed44",
   "metadata": {},
   "outputs": [],
   "source": [
    "def read_crypto_data(ticker):\n",
    "    df = pd.read_csv(f'../data/validation/{ticker}_1_MIN_INTERVAL.csv', parse_dates=['Time'])\n",
    "    df.columns = ['TIME', 'CLOSE']\n",
    "\n",
    "    return df"
   ]
  },
  {
   "cell_type": "code",
   "execution_count": 19,
   "id": "688202ef",
   "metadata": {},
   "outputs": [],
   "source": [
    "ticker = 'BTCEUR'\n",
    "df = read_crypto_data(ticker)\n",
    "df = df[df['TIME'].dt.minute % 30 == 0]"
   ]
  },
  {
   "cell_type": "code",
   "execution_count": 20,
   "id": "a08af144",
   "metadata": {},
   "outputs": [],
   "source": [
    "df.set_index('TIME', inplace=True)"
   ]
  },
  {
   "cell_type": "code",
   "execution_count": 21,
   "id": "9e7c87a6",
   "metadata": {},
   "outputs": [
    {
     "data": {
      "text/html": [
       "<div>\n",
       "<style scoped>\n",
       "    .dataframe tbody tr th:only-of-type {\n",
       "        vertical-align: middle;\n",
       "    }\n",
       "\n",
       "    .dataframe tbody tr th {\n",
       "        vertical-align: top;\n",
       "    }\n",
       "\n",
       "    .dataframe thead th {\n",
       "        text-align: right;\n",
       "    }\n",
       "</style>\n",
       "<table border=\"1\" class=\"dataframe\">\n",
       "  <thead>\n",
       "    <tr style=\"text-align: right;\">\n",
       "      <th></th>\n",
       "      <th>CLOSE</th>\n",
       "    </tr>\n",
       "    <tr>\n",
       "      <th>TIME</th>\n",
       "      <th></th>\n",
       "    </tr>\n",
       "  </thead>\n",
       "  <tbody>\n",
       "    <tr>\n",
       "      <th>2020-01-03 08:00:00</th>\n",
       "      <td>6244.33</td>\n",
       "    </tr>\n",
       "    <tr>\n",
       "      <th>2020-01-03 08:30:00</th>\n",
       "      <td>6478.91</td>\n",
       "    </tr>\n",
       "    <tr>\n",
       "      <th>2020-01-03 09:00:00</th>\n",
       "      <td>6506.73</td>\n",
       "    </tr>\n",
       "    <tr>\n",
       "      <th>2020-01-03 09:30:00</th>\n",
       "      <td>6551.62</td>\n",
       "    </tr>\n",
       "    <tr>\n",
       "      <th>2020-01-03 10:00:00</th>\n",
       "      <td>6551.62</td>\n",
       "    </tr>\n",
       "    <tr>\n",
       "      <th>...</th>\n",
       "      <td>...</td>\n",
       "    </tr>\n",
       "    <tr>\n",
       "      <th>2022-03-31 22:00:00</th>\n",
       "      <td>41400.14</td>\n",
       "    </tr>\n",
       "    <tr>\n",
       "      <th>2022-03-31 22:30:00</th>\n",
       "      <td>41408.64</td>\n",
       "    </tr>\n",
       "    <tr>\n",
       "      <th>2022-03-31 23:00:00</th>\n",
       "      <td>41386.80</td>\n",
       "    </tr>\n",
       "    <tr>\n",
       "      <th>2022-03-31 23:30:00</th>\n",
       "      <td>41320.95</td>\n",
       "    </tr>\n",
       "    <tr>\n",
       "      <th>2022-04-01 00:00:00</th>\n",
       "      <td>41123.37</td>\n",
       "    </tr>\n",
       "  </tbody>\n",
       "</table>\n",
       "<p>39225 rows × 1 columns</p>\n",
       "</div>"
      ],
      "text/plain": [
       "                        CLOSE\n",
       "TIME                         \n",
       "2020-01-03 08:00:00   6244.33\n",
       "2020-01-03 08:30:00   6478.91\n",
       "2020-01-03 09:00:00   6506.73\n",
       "2020-01-03 09:30:00   6551.62\n",
       "2020-01-03 10:00:00   6551.62\n",
       "...                       ...\n",
       "2022-03-31 22:00:00  41400.14\n",
       "2022-03-31 22:30:00  41408.64\n",
       "2022-03-31 23:00:00  41386.80\n",
       "2022-03-31 23:30:00  41320.95\n",
       "2022-04-01 00:00:00  41123.37\n",
       "\n",
       "[39225 rows x 1 columns]"
      ]
     },
     "execution_count": 21,
     "metadata": {},
     "output_type": "execute_result"
    }
   ],
   "source": [
    "df"
   ]
  },
  {
   "cell_type": "markdown",
   "id": "bda65187",
   "metadata": {},
   "source": [
    "# CALCULATE RSI"
   ]
  },
  {
   "cell_type": "code",
   "execution_count": 22,
   "id": "0f5d180c",
   "metadata": {},
   "outputs": [],
   "source": [
    "def calculate_rsi(df, window):\n",
    "    returns = df['CLOSE'].pct_change()\n",
    "    up = returns.clip(lower=0)\n",
    "    down = np.abs(returns.clip(upper=0))\n",
    "\n",
    "    ema_up = up.ewm(span=window).mean()\n",
    "    ema_down = down.ewm(span=window).mean()\n",
    "\n",
    "    rs = ema_up / ema_down\n",
    "    rsi = 100 - (100 / (1 + rs))\n",
    "    df['RSI'] = rsi\n",
    "    \n",
    "    return df"
   ]
  },
  {
   "cell_type": "markdown",
   "id": "663ddef8",
   "metadata": {},
   "source": [
    "# CALCULATE MOVING WEIGHTED AVERAGE"
   ]
  },
  {
   "cell_type": "code",
   "execution_count": 23,
   "id": "5ea19559",
   "metadata": {},
   "outputs": [],
   "source": [
    "def calculate_ewm(df, window):\n",
    "    df['EWM'] = df['CLOSE'].ewm(span=window).mean()\n",
    "    df.dropna(how='any', axis=0, inplace=True)\n",
    "    \n",
    "    return df"
   ]
  },
  {
   "cell_type": "markdown",
   "id": "bf7faeaf",
   "metadata": {},
   "source": [
    "# IMPLEMENT STRATEGY"
   ]
  },
  {
   "cell_type": "code",
   "execution_count": 24,
   "id": "a138f100",
   "metadata": {},
   "outputs": [],
   "source": [
    "def calculate_lags(df):\n",
    "    for lag in range(0, 12):\n",
    "        df[f'EWM_LAG_{lag}'] = df['EWM'].shift(lag)\n",
    "    df.dropna(how='any', axis=0, inplace=True)\n",
    "    \n",
    "    return df"
   ]
  },
  {
   "cell_type": "code",
   "execution_count": 25,
   "id": "10fb260b",
   "metadata": {},
   "outputs": [],
   "source": [
    "def compute_rsi_signal(df, lower_rsi, upper_rsi):\n",
    "    df['RSI_SIGNAL'] = 'NOTHING'\n",
    "    df.loc[(df['RSI'] <= lower_rsi), 'RSI_SIGNAL'] = 'BUY'\n",
    "    df.loc[(df['RSI'] >= upper_rsi), 'RSI_SIGNAL'] = 'SELL'\n",
    "    \n",
    "    return df"
   ]
  },
  {
   "cell_type": "code",
   "execution_count": 26,
   "id": "d434f7f9",
   "metadata": {},
   "outputs": [],
   "source": [
    "def compute_ewm_signal(df):\n",
    "    def mwa_goes_up(row):\n",
    "        lags = row.filter(regex='LAG').to_numpy()\n",
    "        x = np.arange(0, len(lags))\n",
    "        slope = linregress(list(x), list(lags)).slope\n",
    "        if slope > 0:\n",
    "            return True\n",
    "        else:\n",
    "            return False\n",
    "    \n",
    "    df['EWM_GOES_UP_SIGNAL'] = df.apply(mwa_goes_up, axis=1)\n",
    "    \n",
    "    return df"
   ]
  },
  {
   "cell_type": "code",
   "execution_count": 27,
   "id": "adf14c34",
   "metadata": {},
   "outputs": [],
   "source": [
    "def compute_buy_sell_signal(df):\n",
    "    df['BUY_SELL_SIGNAL'] = 0\n",
    "    df.loc[(df['RSI_SIGNAL'] == 'BUY') & (df['EWM_GOES_UP_SIGNAL'] == True), 'BUY_SELL_SIGNAL'] = 1\n",
    "    df.loc[(df['RSI_SIGNAL'] == 'SELL') & (df['EWM_GOES_UP_SIGNAL'] == False), 'BUY_SELL_SIGNAL'] = -1\n",
    "    \n",
    "    return df"
   ]
  },
  {
   "cell_type": "code",
   "execution_count": 28,
   "id": "edab4650",
   "metadata": {},
   "outputs": [],
   "source": [
    "def remove_multiple_signal_ocurrencens_in_a_row(df):\n",
    "    current_state = 0\n",
    "    for i, row in df.iterrows():\n",
    "        if current_state == 0 and row['BUY_SELL_SIGNAL'] == 1:\n",
    "            current_state = 1\n",
    "        elif current_state == 1 and row['BUY_SELL_SIGNAL'] == -1:\n",
    "            current_state = 0\n",
    "        else:\n",
    "            df.loc[i, 'BUY_SELL_SIGNAL'] = 0\n",
    "    \n",
    "    return df"
   ]
  },
  {
   "cell_type": "code",
   "execution_count": 29,
   "id": "47ab0c7d",
   "metadata": {
    "scrolled": false
   },
   "outputs": [
    {
     "name": "stdout",
     "output_type": "stream",
     "text": [
      "CPU times: user 19.6 s, sys: 0 ns, total: 19.6 s\n",
      "Wall time: 19.6 s\n"
     ]
    }
   ],
   "source": [
    "%%time\n",
    "\n",
    "#faltaría otro parametros para el periodo 5 mins, 10 mins, 15 mins, etc\n",
    "window_ewm = 14\n",
    "window_rsi = 14\n",
    "lower_rsi = 40\n",
    "upper_rsi = 60\n",
    "\n",
    "df = calculate_ewm(df, window_ewm)\n",
    "df = calculate_rsi(df, window_rsi)\n",
    "df = calculate_lags(df)\n",
    "df = compute_rsi_signal(df, lower_rsi, upper_rsi)\n",
    "df = compute_ewm_signal(df)\n",
    "df = compute_buy_sell_signal(df)\n",
    "df = remove_multiple_signal_ocurrencens_in_a_row(df)\n",
    "#falta meter el stop loss y take profit con el mínimo y máximo anterior\n",
    "#falta meter las comisiones de binances para tradear cryptos 0.1% 0.001"
   ]
  },
  {
   "cell_type": "code",
   "execution_count": 30,
   "id": "9392eab8",
   "metadata": {},
   "outputs": [],
   "source": [
    "df['RS'] = df['CLOSE'].apply(np.log).diff(1)\n",
    "df['MY_RS'] = (df['BUY_SELL_SIGNAL'].shift(1) * df['RS'])"
   ]
  },
  {
   "cell_type": "code",
   "execution_count": 31,
   "id": "f1bc710a",
   "metadata": {},
   "outputs": [
    {
     "data": {
      "text/plain": [
       "<AxesSubplot:title={'center':'Strategy Performance'}, xlabel='TIME'>"
      ]
     },
     "execution_count": 31,
     "metadata": {},
     "output_type": "execute_result"
    },
    {
     "data": {
      "image/png": "[encoded data removed]",
      "text/plain": [
       "<Figure size 1440x720 with 1 Axes>"
      ]
     },
     "metadata": {
      "needs_background": "light"
     },
     "output_type": "display_data"
    }
   ],
   "source": [
    "df['MY_RS'].cumsum().apply(np.exp).plot(title='Strategy Performance', figsize=(20,10))"
   ]
  },
  {
   "cell_type": "code",
   "execution_count": null,
   "id": "080b61f0",
   "metadata": {},
   "outputs": [],
   "source": []
  },
  {
   "cell_type": "code",
   "execution_count": null,
   "id": "e57aa1d0",
   "metadata": {},
   "outputs": [],
   "source": []
  },
  {
   "cell_type": "code",
   "execution_count": null,
   "id": "6803bb4e",
   "metadata": {},
   "outputs": [],
   "source": []
  },
  {
   "cell_type": "code",
   "execution_count": null,
   "id": "ce73845f",
   "metadata": {},
   "outputs": [],
   "source": []
  },
  {
   "cell_type": "code",
   "execution_count": null,
   "id": "59a1fe1d",
   "metadata": {},
   "outputs": [],
   "source": []
  },
  {
   "cell_type": "code",
   "execution_count": null,
   "id": "4ddc7454",
   "metadata": {},
   "outputs": [],
   "source": []
  },
  {
   "cell_type": "code",
   "execution_count": null,
   "id": "05b83aa3",
   "metadata": {},
   "outputs": [],
   "source": []
  },
  {
   "cell_type": "code",
   "execution_count": null,
   "id": "292d404d",
   "metadata": {},
   "outputs": [],
   "source": []
  },
  {
   "cell_type": "code",
   "execution_count": null,
   "id": "ea642d92",
   "metadata": {},
   "outputs": [],
   "source": []
  },
  {
   "cell_type": "code",
   "execution_count": 83,
   "id": "126019ae",
   "metadata": {},
   "outputs": [],
   "source": [
    "def rsi_ewm_strategy(df, start_investment=1, window_rsi=14, window_mwa=14, lower_rsi=40, upper_rsi=60, stop_loss=-0.1, take_profit=0.1):    \n",
    "    print('CALCULATING INDICATORS...')\n",
    "    df = calculate_ewm(df, window_mwa)\n",
    "    df = calculate_rsi(df, window_rsi)\n",
    "    df = calculate_lags(df)\n",
    "    y = df.drop(['RSI', 'EWM'], axis=1)\n",
    "    #print('INDICATORS CALCULATED')\n",
    "\n",
    "    #initialize variables\n",
    "    df['SIGNAL'] = None\n",
    "    binance_fee = 0.001\n",
    "    current_state = 'SELL'\n",
    "    activate_signal = None\n",
    "    buy_price = None\n",
    "    accumulated_investment = start_investment\n",
    "    accumulated_investment_list = list()\n",
    "    for i in tqdm(range(len(df))):\n",
    "        row = df.iloc[i,:]\n",
    "        #check if stop_loss or take_profit conditions are met\n",
    "        if buy_price is not None:\n",
    "            pct = ((row['CLOSE'] / buy_price) - 1)\n",
    "            #print(f'PCT {pct}')\n",
    "            if pct <= stop_loss:\n",
    "                #print('ENTRO STOP LOSS')\n",
    "                df.loc[i, 'SIGNAL'] = 'SELL'\n",
    "                current_state = 'SELL'\n",
    "                buy_price = None\n",
    "                accumulated_investment -= accumulated_investment * binance_fee\n",
    "                accumulated_investment += accumulated_investment * pct\n",
    "                accumulated_investment_list.append(accumulated_investment)\n",
    "                continue\n",
    "            elif pct >= take_profit:\n",
    "                #print('ENTRO TAKE PROFIT')\n",
    "                df.loc[i, 'SIGNAL'] = 'SELL'\n",
    "                current_state = 'SELL'\n",
    "                buy_price = None\n",
    "                accumulated_investment -= accumulated_investment * binance_fee\n",
    "                accumulated_investment += accumulated_investment * pct\n",
    "                accumulated_investment_list.append(accumulated_investment)\n",
    "                continue\n",
    "        \n",
    "        #check if buy or sell conditions are met\n",
    "        y_i = y.iloc[i,:].to_numpy()\n",
    "        #print(f'ACTIVATE SIGNAL {activate_signal}')\n",
    "        #print(f'CURRENT STATE {current_state}')\n",
    "        #print(f'MWA GOES UP {mwa_goes_up(y_i)}')\n",
    "        if activate_signal == 'BUY' and current_state == 'SELL' and mwa_goes_up(y_i):\n",
    "            #print('COMPRO')\n",
    "            df.loc[i, 'SIGNAL'] = 'BUY'\n",
    "            current_state = 'BUY'\n",
    "            buy_price = row['CLOSE']\n",
    "            accumulated_investment -= accumulated_investment * binance_fee\n",
    "            accumulated_investment_list.append(accumulated_investment)\n",
    "        elif activate_signal == 'SELL' and current_state == 'BUY' and mwa_goes_up(y_i) == False:\n",
    "            #print('VENDO')\n",
    "            df.loc[i, 'SIGNAL'] = 'SELL'\n",
    "            current_state = 'SELL'\n",
    "            pct = ((row['CLOSE'] / buy_price) - 1)\n",
    "            buy_price = None\n",
    "            accumulated_investment -= accumulated_investment * binance_fee\n",
    "            accumulated_investment += accumulated_investment * pct\n",
    "            accumulated_investment_list.append(accumulated_investment)\n",
    "        else:\n",
    "            accumulated_investment_list.append(accumulated_investment)\n",
    "        \n",
    "        #check if out of rsi boundaries\n",
    "        if row['RSI'] <= lower_rsi:\n",
    "            #print('ESTOY POR DEBAJO DEL RSI')\n",
    "            activate_signal = 'BUY'\n",
    "        elif row['RSI'] >= upper_rsi:\n",
    "            #print('ESTOY POR ENCIMA DEL RSI')\n",
    "            activate_signal = 'SELL'\n",
    "    \n",
    "    return df, accumulated_investment, accumulated_investment_list"
   ]
  },
  {
   "cell_type": "code",
   "execution_count": 84,
   "id": "2ce8d992",
   "metadata": {},
   "outputs": [
    {
     "name": "stdout",
     "output_type": "stream",
     "text": [
      "CALCULATING INDICATORS...\n"
     ]
    },
    {
     "data": {
      "text/html": [
       "<div>\n",
       "<style scoped>\n",
       "    .dataframe tbody tr th:only-of-type {\n",
       "        vertical-align: middle;\n",
       "    }\n",
       "\n",
       "    .dataframe tbody tr th {\n",
       "        vertical-align: top;\n",
       "    }\n",
       "\n",
       "    .dataframe thead th {\n",
       "        text-align: right;\n",
       "    }\n",
       "</style>\n",
       "<table border=\"1\" class=\"dataframe\">\n",
       "  <thead>\n",
       "    <tr style=\"text-align: right;\">\n",
       "      <th></th>\n",
       "      <th>CLOSE</th>\n",
       "      <th>EWM</th>\n",
       "    </tr>\n",
       "    <tr>\n",
       "      <th>TIME</th>\n",
       "      <th></th>\n",
       "      <th></th>\n",
       "    </tr>\n",
       "  </thead>\n",
       "  <tbody>\n",
       "    <tr>\n",
       "      <th>2020-01-03 08:00:00</th>\n",
       "      <td>6244.33</td>\n",
       "      <td>6244.330000</td>\n",
       "    </tr>\n",
       "    <tr>\n",
       "      <th>2020-01-03 08:05:00</th>\n",
       "      <td>6478.91</td>\n",
       "      <td>6369.997857</td>\n",
       "    </tr>\n",
       "    <tr>\n",
       "      <th>2020-01-03 08:10:00</th>\n",
       "      <td>6478.91</td>\n",
       "      <td>6411.602666</td>\n",
       "    </tr>\n",
       "    <tr>\n",
       "      <th>2020-01-03 08:15:00</th>\n",
       "      <td>6478.91</td>\n",
       "      <td>6432.193878</td>\n",
       "    </tr>\n",
       "    <tr>\n",
       "      <th>2020-01-03 08:20:00</th>\n",
       "      <td>6478.91</td>\n",
       "      <td>6444.382043</td>\n",
       "    </tr>\n",
       "    <tr>\n",
       "      <th>...</th>\n",
       "      <td>...</td>\n",
       "      <td>...</td>\n",
       "    </tr>\n",
       "    <tr>\n",
       "      <th>2022-03-31 23:40:00</th>\n",
       "      <td>41287.90</td>\n",
       "      <td>41326.977655</td>\n",
       "    </tr>\n",
       "    <tr>\n",
       "      <th>2022-03-31 23:45:00</th>\n",
       "      <td>40985.43</td>\n",
       "      <td>41281.437968</td>\n",
       "    </tr>\n",
       "    <tr>\n",
       "      <th>2022-03-31 23:50:00</th>\n",
       "      <td>40991.91</td>\n",
       "      <td>41242.834239</td>\n",
       "    </tr>\n",
       "    <tr>\n",
       "      <th>2022-03-31 23:55:00</th>\n",
       "      <td>41149.42</td>\n",
       "      <td>41230.379007</td>\n",
       "    </tr>\n",
       "    <tr>\n",
       "      <th>2022-04-01 00:00:00</th>\n",
       "      <td>41123.37</td>\n",
       "      <td>41216.111139</td>\n",
       "    </tr>\n",
       "  </tbody>\n",
       "</table>\n",
       "<p>235331 rows × 2 columns</p>\n",
       "</div>"
      ],
      "text/plain": [
       "                        CLOSE           EWM\n",
       "TIME                                       \n",
       "2020-01-03 08:00:00   6244.33   6244.330000\n",
       "2020-01-03 08:05:00   6478.91   6369.997857\n",
       "2020-01-03 08:10:00   6478.91   6411.602666\n",
       "2020-01-03 08:15:00   6478.91   6432.193878\n",
       "2020-01-03 08:20:00   6478.91   6444.382043\n",
       "...                       ...           ...\n",
       "2022-03-31 23:40:00  41287.90  41326.977655\n",
       "2022-03-31 23:45:00  40985.43  41281.437968\n",
       "2022-03-31 23:50:00  40991.91  41242.834239\n",
       "2022-03-31 23:55:00  41149.42  41230.379007\n",
       "2022-04-01 00:00:00  41123.37  41216.111139\n",
       "\n",
       "[235331 rows x 2 columns]"
      ]
     },
     "metadata": {},
     "output_type": "display_data"
    },
    {
     "name": "stderr",
     "output_type": "stream",
     "text": [
      "100%|██████████████████████████████████| 235320/235320 [29:39<00:00, 132.24it/s]\n"
     ]
    }
   ],
   "source": [
    "df, accumulated_investment, accumulated_investment_list = rsi_ewm_strategy(df)"
   ]
  },
  {
   "cell_type": "code",
   "execution_count": 85,
   "id": "01665e62",
   "metadata": {},
   "outputs": [
    {
     "data": {
      "text/plain": [
       "0.0004636329002042351"
      ]
     },
     "execution_count": 85,
     "metadata": {},
     "output_type": "execute_result"
    }
   ],
   "source": [
    "accumulated_investment"
   ]
  },
  {
   "cell_type": "code",
   "execution_count": 86,
   "id": "302e9b57",
   "metadata": {},
   "outputs": [
    {
     "data": {
      "image/png": "[encoded data removed]",
      "text/plain": [
       "<Figure size 1440x720 with 1 Axes>"
      ]
     },
     "metadata": {
      "needs_background": "light"
     },
     "output_type": "display_data"
    }
   ],
   "source": [
    "import matplotlib.pyplot as plt\n",
    "\n",
    "fig = plt.figure(figsize=(20,10))\n",
    "plt.plot(accumulated_investment_list)\n",
    "plt.show()"
   ]
  },
  {
   "cell_type": "code",
   "execution_count": 87,
   "id": "f163262f",
   "metadata": {},
   "outputs": [
    {
     "data": {
      "text/plain": [
       "BUY     5290\n",
       "SELL    5289\n",
       "Name: SIGNAL, dtype: int64"
      ]
     },
     "execution_count": 87,
     "metadata": {},
     "output_type": "execute_result"
    }
   ],
   "source": [
    "df.SIGNAL.value_counts()"
   ]
  },
  {
   "cell_type": "code",
   "execution_count": null,
   "id": "757d795f",
   "metadata": {},
   "outputs": [],
   "source": []
  },
  {
   "cell_type": "code",
   "execution_count": null,
   "id": "ad1ac63f",
   "metadata": {},
   "outputs": [],
   "source": []
  },
  {
   "cell_type": "code",
   "execution_count": null,
   "id": "f8da43d3",
   "metadata": {},
   "outputs": [],
   "source": []
  }
 ],
 "metadata": {
  "kernelspec": {
   "display_name": "base",
   "language": "python",
   "name": "base"
  },
  "language_info": {
   "codemirror_mode": {
    "name": "ipython",
    "version": 3
   },
   "file_extension": ".py",
   "mimetype": "text/x-python",
   "name": "python",
   "nbconvert_exporter": "python",
   "pygments_lexer": "ipython3",
   "version": "3.9.5"
  }
 },
 "nbformat": 4,
 "nbformat_minor": 5
}
